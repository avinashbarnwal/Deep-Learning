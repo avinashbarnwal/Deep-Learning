{
 "cells": [
  {
   "cell_type": "markdown",
   "metadata": {},
   "source": [
    "# Weight Initialization"
   ]
  },
  {
   "cell_type": "markdown",
   "metadata": {},
   "source": [
    "In this lesson, you'll learn how to find good initial weights for a neural network. Weight initialization happens once, when a model is created and before it trains. Having good initial weights can place the neural network close to the optimal solution. This allows the neural network to come to the best solution quicker.\n",
    "\n",
    "<img src=\"notebook_ims/neuron_weights.png\" width=40%/>"
   ]
  },
  {
   "cell_type": "markdown",
   "metadata": {},
   "source": [
    "# Initial Weights and Observing Training Loss"
   ]
  },
  {
   "cell_type": "markdown",
   "metadata": {},
   "source": [
    "To see how different weights perform, we'll test on the same dataset and neural network. That way, we know that any changes in model behavior are due to the weights and not any changing data or model structure.\n",
    "\n",
    "We'll instantiate at least two of the same models, with different initial weights and see how the training loss decreases over time, such as in the example below.\n",
    "\n",
    "<img src=\"notebook_ims/loss_comparison_ex.png\" width=60%/>"
   ]
  },
  {
   "cell_type": "markdown",
   "metadata": {},
   "source": [
    "Sometimes the differences in training loss, over time, will be large and other times, certain weights offer only small improvements."
   ]
  },
  {
   "cell_type": "markdown",
   "metadata": {},
   "source": [
    "# Dataset and Model"
   ]
  },
  {
   "cell_type": "markdown",
   "metadata": {},
   "source": [
    "We'll train an MLP to classify images from the Fashion-MNIST database to demonstrate the effect of different initial weights. As a reminder, the FashionMNIST dataset contains images of clothing types; classes = ['T-shirt/top', 'Trouser', 'Pullover', 'Dress', 'Coat', 'Sandal', 'Shirt', 'Sneaker', 'Bag', 'Ankle boot']. The images are normalized so that their pixel values are in a range [0.0 - 1.0). Run the cell below to download and load the dataset."
   ]
  },
  {
   "cell_type": "markdown",
   "metadata": {},
   "source": [
    "# Import Libraries and Load Data"
   ]
  },
  {
   "cell_type": "code",
   "execution_count": 17,
   "metadata": {},
   "outputs": [],
   "source": [
    "import torch\n",
    "import numpy as np\n",
    "from torchvision import datasets\n",
    "import torchvision.transforms as transforms\n",
    "from torch.utils.data.sampler import SubsetRandomSampler\n",
    "import torch.nn as nn\n",
    "import torch.nn.functional as F\n",
    "import helpers"
   ]
  },
  {
   "cell_type": "code",
   "execution_count": 3,
   "metadata": {},
   "outputs": [
    {
     "name": "stderr",
     "output_type": "stream",
     "text": [
      "0it [00:00, ?it/s]"
     ]
    },
    {
     "name": "stdout",
     "output_type": "stream",
     "text": [
      "Downloading http://fashion-mnist.s3-website.eu-central-1.amazonaws.com/train-images-idx3-ubyte.gz to data/FashionMNIST/raw/train-images-idx3-ubyte.gz\n"
     ]
    },
    {
     "name": "stderr",
     "output_type": "stream",
     "text": [
      "100%|█████████▉| 26394624/26421880 [02:09<00:00, 483918.52it/s]"
     ]
    },
    {
     "name": "stdout",
     "output_type": "stream",
     "text": [
      "Extracting data/FashionMNIST/raw/train-images-idx3-ubyte.gz to data/FashionMNIST/raw\n"
     ]
    },
    {
     "name": "stderr",
     "output_type": "stream",
     "text": [
      "\n",
      "0it [00:00, ?it/s]\u001b[A"
     ]
    },
    {
     "name": "stdout",
     "output_type": "stream",
     "text": [
      "Downloading http://fashion-mnist.s3-website.eu-central-1.amazonaws.com/train-labels-idx1-ubyte.gz to data/FashionMNIST/raw/train-labels-idx1-ubyte.gz\n"
     ]
    },
    {
     "name": "stderr",
     "output_type": "stream",
     "text": [
      "\n",
      "  0%|          | 0/29515 [00:00<?, ?it/s]\u001b[A\n",
      " 56%|█████▌    | 16384/29515 [00:00<00:00, 118868.59it/s]\u001b[A\n",
      "\n",
      "0it [00:00, ?it/s]\u001b[A\u001b[A"
     ]
    },
    {
     "name": "stdout",
     "output_type": "stream",
     "text": [
      "Extracting data/FashionMNIST/raw/train-labels-idx1-ubyte.gz to data/FashionMNIST/raw\n",
      "Downloading http://fashion-mnist.s3-website.eu-central-1.amazonaws.com/t10k-images-idx3-ubyte.gz to data/FashionMNIST/raw/t10k-images-idx3-ubyte.gz\n"
     ]
    },
    {
     "name": "stderr",
     "output_type": "stream",
     "text": [
      "\n",
      "\n",
      "  0%|          | 0/4422102 [00:00<?, ?it/s]\u001b[A\u001b[A\n",
      "\n",
      "  0%|          | 16384/4422102 [00:00<00:33, 129675.78it/s]\u001b[A\u001b[A\n",
      "\n",
      "  1%|          | 40960/4422102 [00:00<00:31, 140103.98it/s]\u001b[A\u001b[A\n",
      "\n",
      "  2%|▏         | 90112/4422102 [00:00<00:24, 174014.70it/s]\u001b[A\u001b[A\n",
      "\n",
      "  3%|▎         | 147456/4422102 [00:00<00:20, 208220.39it/s]\u001b[A\u001b[A\n",
      "\n",
      "  4%|▍         | 196608/4422102 [00:01<00:27, 155099.42it/s]\u001b[A\u001b[A\n",
      "\n",
      "  6%|▌         | 253952/4422102 [00:01<00:21, 192112.48it/s]\u001b[A\u001b[A\n",
      "\n",
      "  7%|▋         | 311296/4422102 [00:01<00:18, 222614.36it/s]\u001b[A\u001b[A\n",
      "\n",
      "  9%|▊         | 376832/4422102 [00:01<00:14, 271752.73it/s]\u001b[A\u001b[A\n",
      "\n",
      " 10%|█         | 442368/4422102 [00:01<00:12, 317814.79it/s]\u001b[A\u001b[A\n",
      "\n",
      " 11%|█▏        | 507904/4422102 [00:01<00:10, 373464.47it/s]\u001b[A\u001b[A\n",
      "\n",
      " 13%|█▎        | 581632/4422102 [00:02<00:09, 410161.77it/s]\u001b[A\u001b[A\n",
      "\n",
      " 15%|█▌        | 663552/4422102 [00:02<00:08, 454111.86it/s]\u001b[A\u001b[A\n",
      "\n",
      " 17%|█▋        | 737280/4422102 [00:02<00:07, 480973.38it/s]\u001b[A\u001b[A\n",
      "\n",
      " 18%|█▊        | 811008/4422102 [00:02<00:07, 508513.77it/s]\u001b[A\u001b[A\n",
      "\n",
      " 20%|██        | 892928/4422102 [00:02<00:06, 541611.01it/s]\u001b[A\u001b[A\n",
      "\n",
      " 22%|██▏       | 966656/4422102 [00:03<00:11, 291012.45it/s]\u001b[A\u001b[A\n",
      "\n",
      " 24%|██▍       | 1056768/4422102 [00:03<00:09, 347023.48it/s]\u001b[A\u001b[A\n",
      "\n",
      " 26%|██▌       | 1155072/4422102 [00:03<00:07, 415800.63it/s]\u001b[A\u001b[A\n",
      "\n",
      " 29%|██▊       | 1261568/4422102 [00:03<00:06, 491492.36it/s]\u001b[A\u001b[A\n",
      "\n",
      " 31%|███       | 1368064/4422102 [00:03<00:05, 576196.63it/s]\u001b[A\u001b[A\n",
      "\n",
      " 34%|███▎      | 1482752/4422102 [00:03<00:04, 653928.95it/s]\u001b[A\u001b[A\n",
      "\n",
      " 35%|███▌      | 1564672/4422102 [00:03<00:04, 689846.20it/s]\u001b[A\u001b[A\n",
      "\n",
      " 37%|███▋      | 1646592/4422102 [00:03<00:03, 715932.78it/s]\u001b[A\u001b[A\n",
      "\n",
      " 40%|████      | 1769472/4422102 [00:04<00:03, 808992.91it/s]\u001b[A\u001b[A\n",
      "\n",
      " 43%|████▎     | 1900544/4422102 [00:04<00:02, 876569.85it/s]\u001b[A\u001b[A\n",
      "\n",
      " 46%|████▌     | 2023424/4422102 [00:04<00:02, 956665.07it/s]\u001b[A\u001b[A\n",
      "\n",
      " 48%|████▊     | 2129920/4422102 [00:04<00:02, 984570.11it/s]\u001b[A\u001b[A\n",
      "\n",
      " 51%|█████     | 2236416/4422102 [00:04<00:05, 425304.92it/s]\u001b[A\u001b[A\n",
      "\n",
      " 52%|█████▏    | 2318336/4422102 [00:05<00:04, 436426.10it/s]\u001b[A\u001b[A\n",
      "\n",
      " 56%|█████▌    | 2465792/4422102 [00:05<00:03, 549446.45it/s]\u001b[A\u001b[A\n",
      "\n",
      " 58%|█████▊    | 2555904/4422102 [00:05<00:02, 622236.79it/s]\u001b[A\u001b[A\n",
      "\n",
      " 60%|██████    | 2670592/4422102 [00:05<00:02, 672054.33it/s]\u001b[A\u001b[A\n",
      "\n",
      " 63%|██████▎   | 2793472/4422102 [00:05<00:02, 744287.25it/s]\u001b[A\u001b[A\n",
      "\n",
      " 65%|██████▌   | 2891776/4422102 [00:05<00:01, 778992.23it/s]\u001b[A\u001b[A\n",
      "\n",
      " 68%|██████▊   | 2990080/4422102 [00:05<00:01, 822524.20it/s]\u001b[A\u001b[A\n",
      "\n",
      " 70%|███████   | 3112960/4422102 [00:05<00:01, 888652.91it/s]\u001b[A\u001b[A\n",
      "\n",
      " 73%|███████▎  | 3244032/4422102 [00:06<00:01, 902398.30it/s]\u001b[A\u001b[A\n",
      "\n",
      " 77%|███████▋  | 3383296/4422102 [00:06<00:01, 963679.09it/s]\u001b[A\u001b[A\n",
      "\n",
      " 79%|███████▉  | 3489792/4422102 [00:06<00:01, 513601.59it/s]\u001b[A\u001b[A\n",
      "\n",
      " 81%|████████  | 3571712/4422102 [00:06<00:01, 563432.01it/s]\u001b[A\u001b[A\n",
      "\n",
      " 83%|████████▎ | 3678208/4422102 [00:06<00:01, 637121.68it/s]\u001b[A\u001b[A\n",
      "\n",
      " 87%|████████▋ | 3825664/4422102 [00:07<00:00, 749245.65it/s]\u001b[A\u001b[A\n",
      "\n",
      " 90%|████████▉ | 3973120/4422102 [00:07<00:00, 858157.97it/s]\u001b[A\u001b[A\n",
      "\n",
      " 93%|█████████▎| 4112384/4422102 [00:07<00:00, 968567.62it/s]\u001b[A\u001b[A\n",
      "\n",
      " 96%|█████████▌| 4235264/4422102 [00:07<00:00, 997863.74it/s]\u001b[A\u001b[A\n",
      "\n",
      "4423680it [00:07, 589867.95it/s]                              \u001b[A\u001b[A\n",
      "\n",
      "\n",
      "0it [00:00, ?it/s]\u001b[A\u001b[A"
     ]
    },
    {
     "name": "stdout",
     "output_type": "stream",
     "text": [
      "Extracting data/FashionMNIST/raw/t10k-images-idx3-ubyte.gz to data/FashionMNIST/raw\n",
      "Downloading http://fashion-mnist.s3-website.eu-central-1.amazonaws.com/t10k-labels-idx1-ubyte.gz to data/FashionMNIST/raw/t10k-labels-idx1-ubyte.gz\n"
     ]
    },
    {
     "name": "stderr",
     "output_type": "stream",
     "text": [
      "\n",
      "\n",
      "8192it [00:00, 28191.38it/s]            \u001b[A\u001b[A"
     ]
    },
    {
     "name": "stdout",
     "output_type": "stream",
     "text": [
      "Extracting data/FashionMNIST/raw/t10k-labels-idx1-ubyte.gz to data/FashionMNIST/raw\n",
      "Processing...\n",
      "Done!\n"
     ]
    },
    {
     "name": "stderr",
     "output_type": "stream",
     "text": [
      "\n",
      "26427392it [02:20, 483918.52it/s]                              \n",
      "32768it [00:20, 118868.59it/s]                           \u001b[A"
     ]
    }
   ],
   "source": [
    "# number of subprocesses to use for data loading\n",
    "num_workers = 0\n",
    "# how many samples per batch to load\n",
    "batch_size = 100\n",
    "# percentage of training set to use as validation\n",
    "valid_size = 0.2\n",
    "\n",
    "# convert data to torch.FloatTensor\n",
    "transform = transforms.ToTensor()\n",
    "\n",
    "# choose the training and test datasets\n",
    "train_data = datasets.FashionMNIST(root='data', train=True,\n",
    "                                   download=True, transform=transform)\n",
    "test_data = datasets.FashionMNIST(root='data', train=False,\n",
    "                                  download=True, transform=transform)"
   ]
  },
  {
   "cell_type": "code",
   "execution_count": 4,
   "metadata": {},
   "outputs": [],
   "source": [
    "# obtain training indices that will be used for validation\n",
    "num_train = len(train_data)\n",
    "indices = list(range(num_train))\n",
    "np.random.shuffle(indices)\n",
    "split = int(np.floor(valid_size * num_train))\n",
    "train_idx, valid_idx = indices[split:], indices[:split]"
   ]
  },
  {
   "cell_type": "code",
   "execution_count": 5,
   "metadata": {},
   "outputs": [],
   "source": [
    "# define samplers for obtaining training and validation batches\n",
    "train_sampler = SubsetRandomSampler(train_idx)\n",
    "valid_sampler = SubsetRandomSampler(valid_idx)"
   ]
  },
  {
   "cell_type": "code",
   "execution_count": 6,
   "metadata": {},
   "outputs": [],
   "source": [
    "# prepare data loaders (combine dataset and sampler)\n",
    "train_loader = torch.utils.data.DataLoader(train_data, batch_size=batch_size,\n",
    "    sampler=train_sampler, num_workers=num_workers)\n",
    "valid_loader = torch.utils.data.DataLoader(train_data, batch_size=batch_size, \n",
    "    sampler=valid_sampler, num_workers=num_workers)\n",
    "test_loader = torch.utils.data.DataLoader(test_data, batch_size=batch_size, \n",
    "    num_workers=num_workers)"
   ]
  },
  {
   "cell_type": "code",
   "execution_count": 7,
   "metadata": {},
   "outputs": [],
   "source": [
    "# specify the image classes\n",
    "classes = ['T-shirt/top', 'Trouser', 'Pullover', 'Dress', 'Coat', \n",
    "    'Sandal', 'Shirt', 'Sneaker', 'Bag', 'Ankle boot']\n"
   ]
  },
  {
   "cell_type": "markdown",
   "metadata": {},
   "source": [
    "# Visualize Some Training Data"
   ]
  },
  {
   "cell_type": "code",
   "execution_count": 8,
   "metadata": {},
   "outputs": [
    {
     "data": {
      "image/png": "[encoded data removed]",
      "text/plain": [
       "<Figure size 1800x288 with 20 Axes>"
      ]
     },
     "metadata": {},
     "output_type": "display_data"
    }
   ],
   "source": [
    "import matplotlib.pyplot as plt\n",
    "%matplotlib inline\n",
    "    \n",
    "# obtain one batch of training images\n",
    "dataiter = iter(train_loader)\n",
    "images, labels = dataiter.next()\n",
    "images = images.numpy()\n",
    "\n",
    "# plot the images in the batch, along with the corresponding labels\n",
    "fig = plt.figure(figsize=(25, 4))\n",
    "for idx in np.arange(20):\n",
    "    ax = fig.add_subplot(2, 20/2, idx+1, xticks=[], yticks=[])\n",
    "    ax.imshow(np.squeeze(images[idx]), cmap='gray')\n",
    "    ax.set_title(classes[labels[idx]])"
   ]
  },
  {
   "cell_type": "markdown",
   "metadata": {},
   "source": [
    "# Define the Model Architecture"
   ]
  },
  {
   "cell_type": "markdown",
   "metadata": {},
   "source": [
    "We've defined the MLP that we'll use for classifying the dataset."
   ]
  },
  {
   "cell_type": "markdown",
   "metadata": {},
   "source": [
    "# Neural Network"
   ]
  },
  {
   "cell_type": "markdown",
   "metadata": {},
   "source": [
    "<img style=\"float: left\" src=\"notebook_ims/neural_net.png\" width=50%/>"
   ]
  },
  {
   "cell_type": "markdown",
   "metadata": {},
   "source": [
    "- A 3 layer MLP with hidden dimensions of 256 and 128.  \n",
    "- This MLP accepts a flattened image (784-value long vector) as input and produces 10 class scores as output."
   ]
  },
  {
   "cell_type": "markdown",
   "metadata": {},
   "source": [
    "We'll test the effect of different initial weights on this 3 layer neural network with ReLU activations and an Adam optimizer.\n",
    "\n",
    "The lessons you learn apply to other neural networks, including different activations and optimizers."
   ]
  },
  {
   "cell_type": "markdown",
   "metadata": {},
   "source": [
    "# Initialize Weights"
   ]
  },
  {
   "cell_type": "markdown",
   "metadata": {},
   "source": [
    "Let's start looking at some initial weights."
   ]
  },
  {
   "cell_type": "markdown",
   "metadata": {},
   "source": [
    "# All Zeros or Ones"
   ]
  },
  {
   "cell_type": "markdown",
   "metadata": {},
   "source": [
    "If you follow the principle of Occam's razor, you might think setting all the weights to 0 or 1 would be the best solution. This is not the case.\n",
    "\n",
    "With every weight the same, all the neurons at each layer are producing the same output. \n",
    "This makes it hard to decide which weights to adjust.\n",
    "\n",
    "Let's compare the loss with all ones and all zero weights by defining two models with those constant weights.\n",
    "\n",
    "Below, we are using PyTorch's nn.init to initialize each Linear layer with a constant weight. The init library provides a number of weight initialization functions that give you the ability to initialize the weights of each layer according to layer type.\n",
    "\n",
    "In the case below, we look at every layer/module in our model. If it is a Linear layer (as all three layers are for this MLP), then we initialize those layer weights to be a constant_weight with bias=0 using the following code:\n",
    "\n",
    "The constant_weight is a value that you can pass in when you instantiate the model."
   ]
  },
  {
   "cell_type": "markdown",
   "metadata": {},
   "source": [
    "```python\n",
    "if isinstance(m, nn.Linear):\n",
    "    nn.init.constant_(m.weight, constant_weight)\n",
    "    nn.init.constant_(m.bias, 0)\n",
    "```"
   ]
  },
  {
   "cell_type": "markdown",
   "metadata": {},
   "source": [
    "The constant_weight is a value that you can pass in when you instantiate the model."
   ]
  },
  {
   "cell_type": "code",
   "execution_count": 13,
   "metadata": {},
   "outputs": [],
   "source": [
    "# define the NN architecture\n",
    "class Net(nn.Module):\n",
    "    def __init__(self, hidden_1=256, hidden_2=128, constant_weight=None):\n",
    "        super(Net, self).__init__()\n",
    "        # linear layer (784 -> hidden_1)\n",
    "        self.fc1 = nn.Linear(28 * 28, hidden_1)\n",
    "        # linear layer (hidden_1 -> hidden_2)\n",
    "        self.fc2 = nn.Linear(hidden_1, hidden_2)\n",
    "        # linear layer (hidden_2 -> 10)\n",
    "        self.fc3 = nn.Linear(hidden_2, 10)\n",
    "        # dropout layer (p=0.2)\n",
    "        self.dropout = nn.Dropout(0.2)\n",
    "        \n",
    "        # initialize the weights to a specified, constant value\n",
    "        if(constant_weight is not None):\n",
    "            for m in self.modules():\n",
    "                if isinstance(m, nn.Linear):\n",
    "                    nn.init.constant_(m.weight, constant_weight)\n",
    "                    nn.init.constant_(m.bias, 0)\n",
    "    \n",
    "            \n",
    "    def forward(self, x):\n",
    "        # flatten image input\n",
    "        x = x.view(-1, 28 * 28)\n",
    "        # add hidden layer, with relu activation function\n",
    "        x = F.relu(self.fc1(x))\n",
    "        # add dropout layer\n",
    "        x = self.dropout(x)\n",
    "        # add hidden layer, with relu activation function\n",
    "        x = F.relu(self.fc2(x))\n",
    "        # add dropout layer\n",
    "        x = self.dropout(x)\n",
    "        # add output layer\n",
    "        x = self.fc3(x)\n",
    "        return x"
   ]
  },
  {
   "cell_type": "markdown",
   "metadata": {},
   "source": [
    "# Compare Model Behavior"
   ]
  },
  {
   "cell_type": "markdown",
   "metadata": {},
   "source": [
    "Below, we are using helpers.compare_init_weights to compare the training and validation loss for the two models we defined above, model_0 and model_1. \n",
    "This function takes in a list of models (each with different initial weights), the name of the plot to produce, and the training and validation dataset loaders.\n",
    "For each given model, it will plot the training loss for the first 100 batches and print out the validation accuracy after 2 training epochs. \n",
    "Note: if you've used a small batch_size, you may want to increase the number of epochs here to better compare how models behave after seeing a few hundred images.\n",
    "We plot the loss over the first 100 batches to better judge which model weights performed better at the start of training.\n",
    "I recommend that you take a look at the code in helpers.py to look at the details behind how the models are trained, validated, and compared.\n",
    "Run the cell below to see the difference between weights of all zeros against all ones."
   ]
  },
  {
   "cell_type": "code",
   "execution_count": null,
   "metadata": {},
   "outputs": [],
   "source": [
    "# initialize two NN's with 0 and 1 constant weights\n",
    "model_0 = Net(constant_weight=0)\n",
    "model_1 = Net(constant_weight=1)"
   ]
  },
  {
   "cell_type": "code",
   "execution_count": null,
   "metadata": {},
   "outputs": [],
   "source": [
    "\n",
    "import helpers\n",
    "\n",
    "# put them in list form to compare\n",
    "model_list = [(model_0, 'All Zeros'),\n",
    "              (model_1, 'All Ones')]\n",
    "\n",
    "\n",
    "# plot the loss over the first 100 batches\n",
    "helpers.compare_init_weights(model_list, \n",
    "                             'All Zeros vs All Ones', \n",
    "                             train_loader,\n",
    "                             valid_loader)"
   ]
  },
  {
   "cell_type": "markdown",
   "metadata": {},
   "source": [
    "As you can see the accuracy is close to guessing for both zeros and ones, around 10%.\n",
    "The neural network is having a hard time determining which weights need to be changed, since the neurons have the same output for each layer. To avoid neurons with the same output, let's use unique weights. \n",
    "We can also randomly select these weights to avoid being stuck in a local minimum for each run.\n",
    "A good solution for getting these random weights is to sample from a uniform distribution."
   ]
  },
  {
   "cell_type": "markdown",
   "metadata": {},
   "source": [
    "# Uniform Distribution"
   ]
  },
  {
   "cell_type": "markdown",
   "metadata": {},
   "source": [
    "A uniform distribution has the equal probability of picking any number from a set of numbers.  \n",
    "We'll be picking from a continuous distribution, so the chance of picking the same number is low.  \n",
    "We'll use NumPy's np.random.uniform function to pick random numbers from a uniform distribution.  "
   ]
  },
  {
   "cell_type": "markdown",
   "metadata": {},
   "source": [
    "```python\n",
    "np.random_uniform(low=0.0, high=1.0, size=None)\n",
    "```\n",
    "Outputs random values from a uniform distribution.\n",
    "\n",
    "The generated values follow a uniform distribution in the range [low, high). The lower bound minval is included in the range, while the upper bound maxval is excluded.\n",
    "\n",
    "- low: The lower bound on the range of random values to generate. Defaults to 0.\n",
    "- high: The upper bound on the range of random values to generate. Defaults to 1.\n",
    "- size: An int or tuple of ints that specify the shape of the output array.\n"
   ]
  },
  {
   "cell_type": "markdown",
   "metadata": {},
   "source": [
    "We can visualize the uniform distribution by using a histogram. Let's map the values from np.random_uniform(-3, 3, [1000]) to a histogram using the helper.hist_dist function. This will be 1000 random float values from -3 to 3, excluding the value 3."
   ]
  },
  {
   "cell_type": "code",
   "execution_count": 18,
   "metadata": {},
   "outputs": [
    {
     "data": {
      "image/png": "[encoded data removed]",
      "text/plain": [
       "<Figure size 432x288 with 1 Axes>"
      ]
     },
     "metadata": {
      "needs_background": "light"
     },
     "output_type": "display_data"
    }
   ],
   "source": [
    "helpers.hist_dist('Random Uniform (low=-3, high=3)', np.random.uniform(-3, 3, [1000]))"
   ]
  },
  {
   "cell_type": "markdown",
   "metadata": {},
   "source": [
    "The histogram used 500 buckets for the 1000 values. Since the chance for any single bucket is the same, there should be around 2 values for each bucket. That's exactly what we see with the histogram. Some buckets have more and some have less, but they trend around 2.\n",
    "\n",
    "Now that you understand the uniform function, let's use PyTorch's nn.init to apply it to a model's initial weights."
   ]
  },
  {
   "cell_type": "markdown",
   "metadata": {},
   "source": [
    "# Uniform Initialization, Baseline"
   ]
  },
  {
   "cell_type": "markdown",
   "metadata": {},
   "source": [
    "Let's see how well the neural network trains using a uniform weight initialization, where low=0.0 and high=1.0. Below, I'll show you another way (besides in the Net class code) to initialize the weights of a network. To define weights outside of the model definition, you can:"
   ]
  },
  {
   "cell_type": "markdown",
   "metadata": {},
   "source": [
    "> - Define a function that assigns weights by the type of network layer, then\n",
    "> - Apply those weights to an initialized model using model.apply(fn), which applies a function to each model layer.  \n",
    "\n",
    "This time, we'll use weight.data.uniform_ to initialize the weights of our model, directly."
   ]
  },
  {
   "cell_type": "code",
   "execution_count": 19,
   "metadata": {},
   "outputs": [],
   "source": [
    "# takes in a module and applies the specified weight initialization\n",
    "def weights_init_uniform(m):\n",
    "    classname = m.__class__.__name__\n",
    "    # for every Linear layer in a model..\n",
    "    if classname.find('Linear') != -1:\n",
    "        # apply a uniform distribution to the weights and a bias=0\n",
    "        m.weight.data.uniform_(0.0, 1.0)\n",
    "        m.bias.data.fill_(0)"
   ]
  },
  {
   "cell_type": "code",
   "execution_count": 20,
   "metadata": {},
   "outputs": [
    {
     "data": {
      "text/plain": [
       "Net(\n",
       "  (fc1): Linear(in_features=784, out_features=256, bias=True)\n",
       "  (fc2): Linear(in_features=256, out_features=128, bias=True)\n",
       "  (fc3): Linear(in_features=128, out_features=10, bias=True)\n",
       "  (dropout): Dropout(p=0.2, inplace=False)\n",
       ")"
      ]
     },
     "execution_count": 20,
     "metadata": {},
     "output_type": "execute_result"
    }
   ],
   "source": [
    "# create a new model with these weights\n",
    "model_uniform = Net()\n",
    "model_uniform.apply(weights_init_uniform)"
   ]
  },
  {
   "cell_type": "code",
   "execution_count": null,
   "metadata": {},
   "outputs": [],
   "source": [
    "# evaluate behavior \n",
    "helpers.compare_init_weights([(model_uniform, 'Uniform Weights')], \n",
    "                             'Uniform Baseline', \n",
    "                             train_loader,\n",
    "                             valid_loader)"
   ]
  },
  {
   "cell_type": "markdown",
   "metadata": {},
   "source": [
    "The loss graph is showing the neural network is learning, which it didn't with all zeros or all ones. We're headed in the right direction!"
   ]
  }
 ],
 "metadata": {
  "kernelspec": {
   "display_name": "Python 3",
   "language": "python",
   "name": "python3"
  },
  "language_info": {
   "codemirror_mode": {
    "name": "ipython",
    "version": 3
   },
   "file_extension": ".py",
   "mimetype": "text/x-python",
   "name": "python",
   "nbconvert_exporter": "python",
   "pygments_lexer": "ipython3",
   "version": "3.7.4"
  }
 },
 "nbformat": 4,
 "nbformat_minor": 4
}
