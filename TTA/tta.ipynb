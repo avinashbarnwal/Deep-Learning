{
 "cells": [
  {
   "cell_type": "markdown",
   "metadata": {},
   "source": [
    "Test-Time Augmentation Example\n",
    "Implementing test-time augmentation involves two steps.\n",
    "\n",
    "The first step is to select a method for creating modified versions of each row in the test set.\n",
    "\n",
    "In this tutorial, we will add Gaussian random noise to each feature. An alternate approach might be to add uniformly random noise or even copy feature values from examples in the test dataset.\n",
    "\n",
    "The normal() NumPy function will be used to create a vector of random Gaussian values with a zero mean and small standard deviation. The standard deviation should be proportional to the distribution for each variable in the training dataset. In this case, we will keep the example simple and use a value of 0.02."
   ]
  },
  {
   "cell_type": "code",
   "execution_count": 2,
   "metadata": {},
   "outputs": [],
   "source": [
    "# evaluate logistic regression using test-time augmentation\n",
    "from numpy.random import seed\n",
    "from numpy.random import normal\n",
    "from numpy import mean\n",
    "from numpy import std\n",
    "from scipy.stats import mode\n",
    "from sklearn.datasets import make_classification\n",
    "from sklearn.model_selection import RepeatedStratifiedKFold\n",
    "from sklearn.model_selection import cross_val_score\n",
    "from sklearn.linear_model import LogisticRegression\n",
    "from sklearn.metrics import accuracy_score"
   ]
  },
  {
   "cell_type": "code",
   "execution_count": 1,
   "metadata": {},
   "outputs": [],
   "source": [
    "# create a test set for a row of real data with an unknown label\n",
    "def create_test_set(row, n_cases=3, feature_scale=0.2):\n",
    "\ttest_set = list()\n",
    "\ttest_set.append(row)\n",
    "\t# make copies of row\n",
    "\tfor _ in range(n_cases):\n",
    "\t\t# create vector of random gaussians\n",
    "\t\tgauss = normal(loc=0.0, scale=feature_scale, size=len(row))\n",
    "\t\t# add to test case\n",
    "\t\tnew_row = row + gauss\n",
    "\t\t# store in test set\n",
    "\t\ttest_set.append(new_row)\n",
    "\treturn test_set"
   ]
  },
  {
   "cell_type": "code",
   "execution_count": 4,
   "metadata": {},
   "outputs": [],
   "source": [
    "# make predictions using test-time augmentation\n",
    "def test_time_augmentation(model, X_test):\n",
    "\t# evaluate model\n",
    "\ty_hat = list()\n",
    "\tfor i in range(X_test.shape[0]):\n",
    "\t\t# retrieve the row\n",
    "\t\trow = X_test[i]\n",
    "\t\t# create the test set\n",
    "\t\ttest_set = create_test_set(row)\n",
    "\t\t# make a prediction for all examples in the test set\n",
    "\t\tlabels = model.predict(test_set)\n",
    "\t\t# select the label as the mode of the distribution\n",
    "\t\tlabel, _ = mode(labels)\n",
    "\t\t# store the prediction\n",
    "\t\ty_hat.append(label)\n",
    "\treturn y_hat"
   ]
  },
  {
   "cell_type": "code",
   "execution_count": 5,
   "metadata": {},
   "outputs": [
    {
     "output_type": "stream",
     "name": "stdout",
     "text": "Accuracy: 0.810 (0.114)\n"
    }
   ],
   "source": [
    "# initialize numpy random number generator\n",
    "seed(1)\n",
    "# create dataset\n",
    "X, y = make_classification(n_samples=100, n_features=20, n_informative=15, n_redundant=5, random_state=1)\n",
    "# prepare the cross-validation procedure\n",
    "cv = RepeatedStratifiedKFold(n_splits=10, n_repeats=5, random_state=1)\n",
    "scores = list()\n",
    "for train_ix, test_ix in cv.split(X, y):\n",
    "\t# split the data\n",
    "\tX_train, X_test = X[train_ix], X[test_ix]\n",
    "\ty_train, y_test = y[train_ix], y[test_ix]\n",
    "\t# fit model\n",
    "\tmodel = LogisticRegression()\n",
    "\tmodel.fit(X_train, y_train)\n",
    "\t# make predictions using test-time augmentation\n",
    "\ty_hat = test_time_augmentation(model, X_test)\n",
    "\t# calculate the accuracy for this iteration\n",
    "\tacc = accuracy_score(y_test, y_hat)\n",
    "\t# store the result\n",
    "\tscores.append(acc)\n",
    "# report performance\n",
    "print('Accuracy: %.3f (%.3f)' % (mean(scores), std(scores)))"
   ]
  }
 ],
 "metadata": {
  "language_info": {
   "codemirror_mode": {
    "name": "ipython",
    "version": 3
   },
   "file_extension": ".py",
   "mimetype": "text/x-python",
   "name": "python",
   "nbconvert_exporter": "python",
   "pygments_lexer": "ipython3",
   "version": 3
  },
  "orig_nbformat": 2,
  "kernelspec": {
   "name": "python_defaultSpec_1596395744810",
   "display_name": "Python 3.7.7 64-bit ('deep_learning': conda)"
  }
 },
 "nbformat": 4,
 "nbformat_minor": 2
}